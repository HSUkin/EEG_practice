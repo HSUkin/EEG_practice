{
 "cells": [
  {
   "cell_type": "code",
   "execution_count": 2,
   "id": "47168961",
   "metadata": {
    "ExecuteTime": {
     "end_time": "2023-05-19T15:18:32.947789Z",
     "start_time": "2023-05-19T15:18:32.705082Z"
    }
   },
   "outputs": [],
   "source": [
    "import os\n",
    "import mne\n",
    "import numpy as np\n",
    "import pandas as pd\n",
    "import matplotlib\n",
    "from matplotlib import font_manager\n",
    "\n",
    "import matplotlib.pyplot as plt\n",
    "import seaborn as sns\n",
    "%matplotlib qt"
   ]
  },
  {
   "cell_type": "code",
   "execution_count": 3,
   "id": "ccd6498d",
   "metadata": {
    "ExecuteTime": {
     "end_time": "2023-05-19T15:18:50.152621Z",
     "start_time": "2023-05-19T15:18:50.146100Z"
    }
   },
   "outputs": [],
   "source": [
    "read_data_path = r\"D:\\222experiment_material\\EEGpy\\data\"\n",
    "os.chdir(read_data_path)  # 修改当前工作目录\n",
    "save_path = \"./lkm/lkm_epo\""
   ]
  },
  {
   "cell_type": "code",
   "execution_count": 9,
   "id": "1ad190d3",
   "metadata": {
    "ExecuteTime": {
     "end_time": "2023-05-19T15:25:38.017138Z",
     "start_time": "2023-05-19T15:25:37.597711Z"
    }
   },
   "outputs": [
    {
     "name": "stdout",
     "output_type": "stream",
     "text": [
      "Reading D:\\222experiment_material\\EEGpy\\data\\lkm\\lkm_epo\\1_epo.fif ...\n",
      "    Found the data of interest:\n",
      "        t =    -200.00 ...    1000.00 ms\n",
      "        0 CTF compensation matrices available\n",
      "Not setting metadata\n",
      "107 matching events found\n",
      "No baseline correction applied\n",
      "0 projection items activated\n",
      "Reading D:\\222experiment_material\\EEGpy\\data\\lkm\\lkm_epo\\2_epo.fif ...\n",
      "    Found the data of interest:\n",
      "        t =    -200.00 ...    1000.00 ms\n",
      "        0 CTF compensation matrices available\n",
      "Not setting metadata\n",
      "11 matching events found\n",
      "No baseline correction applied\n",
      "0 projection items activated\n",
      "Reading D:\\222experiment_material\\EEGpy\\data\\lkm\\lkm_epo\\3_epo.fif ...\n",
      "    Found the data of interest:\n",
      "        t =    -200.00 ...    1000.00 ms\n",
      "        0 CTF compensation matrices available\n",
      "Not setting metadata\n",
      "101 matching events found\n",
      "No baseline correction applied\n",
      "0 projection items activated\n"
     ]
    }
   ],
   "source": [
    "list_epoch = []\n",
    "for i in range(1,4):\n",
    "    file_path = './lkm/lkm_epo/{0}_epo.fif'.format(i)\n",
    "    epochs = mne.read_epochs(file_path)\n",
    "    epoch = epochs.copy()\n",
    "    list_epoch.append(epoch)\n",
    "\n"
   ]
  },
  {
   "cell_type": "code",
   "execution_count": 24,
   "id": "4bccc661",
   "metadata": {
    "ExecuteTime": {
     "end_time": "2023-05-19T16:04:45.358853Z",
     "start_time": "2023-05-19T16:04:45.337313Z"
    }
   },
   "outputs": [
    {
     "data": {
      "text/plain": [
       "(107, 135, 301)"
      ]
     },
     "execution_count": 24,
     "metadata": {},
     "output_type": "execute_result"
    }
   ],
   "source": [
    "epoch_data.shape # 分段，通道，时间"
   ]
  },
  {
   "cell_type": "code",
   "execution_count": 25,
   "id": "fdebc061",
   "metadata": {
    "ExecuteTime": {
     "end_time": "2023-05-19T16:05:17.277217Z",
     "start_time": "2023-05-19T16:05:17.190038Z"
    }
   },
   "outputs": [
    {
     "name": "stdout",
     "output_type": "stream",
     "text": [
      "(107, 135, 301)\n",
      "(107, 135, 301)\n",
      "(11, 135, 301)\n",
      "(118, 135, 301)\n",
      "(101, 135, 301)\n",
      "(219, 135, 301)\n"
     ]
    }
   ],
   "source": [
    "epoch_all = np.empty(shape=(0,135,301))\n",
    "epoch_data.shape # 分段，通道，时间\n",
    "for i in range(3):\n",
    "    data = list_epoch[i].get_data()\n",
    "    print(data.shape)\n",
    "    epoch_all = np.concatenate((epoch_all,data),axis=0)\n",
    "    print(epoch_all.shape)\n"
   ]
  },
  {
   "cell_type": "code",
   "execution_count": null,
   "id": "f3f8815e",
   "metadata": {},
   "outputs": [],
   "source": []
  }
 ],
 "metadata": {
  "kernelspec": {
   "display_name": "Python 3 (ipykernel)",
   "language": "python",
   "name": "python3"
  },
  "language_info": {
   "codemirror_mode": {
    "name": "ipython",
    "version": 3
   },
   "file_extension": ".py",
   "mimetype": "text/x-python",
   "name": "python",
   "nbconvert_exporter": "python",
   "pygments_lexer": "ipython3",
   "version": "3.9.7"
  }
 },
 "nbformat": 4,
 "nbformat_minor": 5
}
