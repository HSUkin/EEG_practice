{
 "cells": [
  {
   "cell_type": "code",
   "execution_count": 2,
   "id": "47168961",
   "metadata": {
    "ExecuteTime": {
     "end_time": "2023-05-20T03:21:08.717862Z",
     "start_time": "2023-05-20T03:21:02.527297Z"
    }
   },
   "outputs": [],
   "source": [
    "import os\n",
    "import mne\n",
    "import numpy as np\n",
    "import pandas as pd\n",
    "import matplotlib\n",
    "from matplotlib import font_manager\n",
    "\n",
    "import matplotlib.pyplot as plt\n",
    "import seaborn as sns\n",
    "%matplotlib qt"
   ]
  },
  {
   "cell_type": "code",
   "execution_count": 3,
   "id": "ccd6498d",
   "metadata": {
    "ExecuteTime": {
     "end_time": "2023-05-20T03:21:10.256399Z",
     "start_time": "2023-05-20T03:21:10.234457Z"
    }
   },
   "outputs": [],
   "source": [
    "read_data_path = r\"D:\\222experiment_material\\EEGpy\\data\"\n",
    "os.chdir(read_data_path)  # 修改当前工作目录\n",
    "save_path = \"./lkm/lkm_epo\""
   ]
  },
  {
   "cell_type": "code",
   "execution_count": 4,
   "id": "1ad190d3",
   "metadata": {
    "ExecuteTime": {
     "end_time": "2023-05-20T03:21:12.594276Z",
     "start_time": "2023-05-20T03:21:12.184231Z"
    }
   },
   "outputs": [
    {
     "name": "stdout",
     "output_type": "stream",
     "text": [
      "Reading D:\\222experiment_material\\EEGpy\\data\\lkm\\lkm_epo\\1_epo.fif ...\n",
      "    Found the data of interest:\n",
      "        t =    -200.00 ...    1000.00 ms\n",
      "        0 CTF compensation matrices available\n",
      "Not setting metadata\n",
      "107 matching events found\n",
      "No baseline correction applied\n",
      "0 projection items activated\n",
      "Reading D:\\222experiment_material\\EEGpy\\data\\lkm\\lkm_epo\\2_epo.fif ...\n",
      "    Found the data of interest:\n",
      "        t =    -200.00 ...    1000.00 ms\n",
      "        0 CTF compensation matrices available\n",
      "Not setting metadata\n",
      "11 matching events found\n",
      "No baseline correction applied\n",
      "0 projection items activated\n",
      "Reading D:\\222experiment_material\\EEGpy\\data\\lkm\\lkm_epo\\3_epo.fif ...\n",
      "    Found the data of interest:\n",
      "        t =    -200.00 ...    1000.00 ms\n",
      "        0 CTF compensation matrices available\n",
      "Not setting metadata\n",
      "101 matching events found\n",
      "No baseline correction applied\n",
      "0 projection items activated\n"
     ]
    }
   ],
   "source": [
    "list_epoch = []\n",
    "for i in range(1,4):\n",
    "    file_path = './lkm/lkm_epo/{0}_epo.fif'.format(i)\n",
    "    epochs = mne.read_epochs(file_path)\n",
    "    epoch = epochs.copy()\n",
    "    list_epoch.append(epoch)"
   ]
  },
  {
   "cell_type": "code",
   "execution_count": 24,
   "id": "4bccc661",
   "metadata": {
    "ExecuteTime": {
     "end_time": "2023-05-19T16:04:45.358853Z",
     "start_time": "2023-05-19T16:04:45.337313Z"
    }
   },
   "outputs": [
    {
     "data": {
      "text/plain": [
       "(107, 135, 301)"
      ]
     },
     "execution_count": 24,
     "metadata": {},
     "output_type": "execute_result"
    }
   ],
   "source": [
    "epoch_data.shape # 分段，通道，时间"
   ]
  },
  {
   "cell_type": "code",
   "execution_count": 20,
   "id": "fdebc061",
   "metadata": {
    "ExecuteTime": {
     "end_time": "2023-05-20T03:51:25.362788Z",
     "start_time": "2023-05-20T03:51:25.313972Z"
    }
   },
   "outputs": [
    {
     "name": "stdout",
     "output_type": "stream",
     "text": [
      "(107, 135, 301)\n",
      "(0, 135, 301)\n",
      "(11, 135, 301)\n",
      "(0, 135, 301)\n",
      "(101, 135, 301)\n",
      "(0, 135, 301)\n"
     ]
    }
   ],
   "source": [
    "# 拼接data\n",
    "data_all = np.empty(shape=(0,135,301))\n",
    "#epoch_data.shape # 分段，通道，时间\n",
    "for i in range(3):\n",
    "    data = list_epoch[i].get_data()\n",
    "    print(data.shape)\n",
    "    epoch_all = np.concatenate((data_all,data),axis=0)\n",
    "    print(data_all.shape)"
   ]
  },
  {
   "cell_type": "code",
   "execution_count": 21,
   "id": "f3f8815e",
   "metadata": {
    "ExecuteTime": {
     "end_time": "2023-05-20T03:51:28.306292Z",
     "start_time": "2023-05-20T03:51:28.285192Z"
    }
   },
   "outputs": [
    {
     "name": "stdout",
     "output_type": "stream",
     "text": [
      "(107, 3)\n",
      "(107, 3)\n",
      "(11, 3)\n",
      "(118, 3)\n",
      "(101, 3)\n",
      "(219, 3)\n"
     ]
    }
   ],
   "source": [
    "# 拼接event\n",
    "event_all =np.empty(shape=(0,3))\n",
    "\n",
    "for i in range(3):\n",
    "    event = list_epoch[i].events\n",
    "    print(event.shape)\n",
    "    event_all = np.concatenate((event_all,event),axis=0)\n",
    "    print(event_all.shape)"
   ]
  },
  {
   "cell_type": "code",
   "execution_count": 28,
   "id": "539f1da3",
   "metadata": {
    "ExecuteTime": {
     "end_time": "2023-05-20T04:01:09.682882Z",
     "start_time": "2023-05-20T04:01:09.656409Z"
    }
   },
   "outputs": [
    {
     "data": {
      "text/plain": [
       "numpy.ndarray"
      ]
     },
     "execution_count": 28,
     "metadata": {},
     "output_type": "execute_result"
    }
   ],
   "source": [
    "\n",
    "events_all = np.asarray(event_all, dtype=np.int32)\n",
    "type(events_all)"
   ]
  },
  {
   "cell_type": "code",
   "execution_count": 22,
   "id": "0b6f7def",
   "metadata": {
    "ExecuteTime": {
     "end_time": "2023-05-20T03:51:31.318313Z",
     "start_time": "2023-05-20T03:51:31.291950Z"
    }
   },
   "outputs": [
    {
     "data": {
      "text/html": [
       "<table class=\"table table-hover table-striped table-sm table-responsive small\">\n",
       "    <tr>\n",
       "        <th>Measurement date</th>\n",
       "        \n",
       "        <td>June 17, 2022  08:38:35 GMT</td>\n",
       "        \n",
       "    </tr>\n",
       "    <tr>\n",
       "        <th>Experimenter</th>\n",
       "        \n",
       "        <td>Unknown</td>\n",
       "        \n",
       "    </tr>\n",
       "        <th>Participant</th>\n",
       "        \n",
       "        <td>Unknown</td>\n",
       "        \n",
       "    </tr>\n",
       "    <tr>\n",
       "        <th>Digitized points</th>\n",
       "        \n",
       "        <td>132 points</td>\n",
       "        \n",
       "    </tr>\n",
       "    <tr>\n",
       "        <th>Good channels</th>\n",
       "        <td>129 EEG, 6 Stimulus</td>\n",
       "    </tr>\n",
       "    <tr>\n",
       "        <th>Bad channels</th>\n",
       "        <td>None</td>\n",
       "    </tr>\n",
       "    <tr>\n",
       "        <th>EOG channels</th>\n",
       "        <td>Not available</td>\n",
       "    </tr>\n",
       "    <tr>\n",
       "        <th>ECG channels</th>\n",
       "        <td>Not available</td>\n",
       "    \n",
       "    <tr>\n",
       "        <th>Sampling frequency</th>\n",
       "        <td>250.00 Hz</td>\n",
       "    </tr>\n",
       "    \n",
       "    \n",
       "    <tr>\n",
       "        <th>Highpass</th>\n",
       "        <td>0.10 Hz</td>\n",
       "    </tr>\n",
       "    \n",
       "    \n",
       "    <tr>\n",
       "        <th>Lowpass</th>\n",
       "        <td>30.00 Hz</td>\n",
       "    </tr>\n",
       "    \n",
       "    \n",
       "</table>"
      ],
      "text/plain": [
       "<Info | 13 non-empty values\n",
       " bads: []\n",
       " ch_names: E1, E2, E3, E4, E5, E6, E7, E8, E9, E10, E11, E12, E13, E14, ...\n",
       " chs: 129 EEG, 6 Stimulus\n",
       " custom_ref_applied: True\n",
       " device_info: 1 item (dict)\n",
       " dig: 132 items (3 Cardinal, 129 EEG)\n",
       " file_id: 4 items (dict)\n",
       " highpass: 0.1 Hz\n",
       " lowpass: 30.0 Hz\n",
       " meas_date: 2022-06-17 08:38:35 UTC\n",
       " meas_id: 4 items (dict)\n",
       " nchan: 135\n",
       " projs: []\n",
       " sfreq: 250.0 Hz\n",
       " utc_offset: -0700\n",
       ">"
      ]
     },
     "execution_count": 22,
     "metadata": {},
     "output_type": "execute_result"
    }
   ],
   "source": [
    "event_id =list_epoch[0].event_id\n",
    "info = list_epoch[2].info\n",
    "info"
   ]
  },
  {
   "cell_type": "code",
   "execution_count": 29,
   "id": "d5938d55",
   "metadata": {
    "ExecuteTime": {
     "end_time": "2023-05-20T04:01:25.362468Z",
     "start_time": "2023-05-20T04:01:25.211565Z"
    }
   },
   "outputs": [
    {
     "ename": "RuntimeError",
     "evalue": "Event time samples were not unique. Consider setting the `event_repeated` parameter.\"",
     "output_type": "error",
     "traceback": [
      "\u001b[1;31m---------------------------------------------------------------------------\u001b[0m",
      "\u001b[1;31mRuntimeError\u001b[0m                              Traceback (most recent call last)",
      "Cell \u001b[1;32mIn[29], line 1\u001b[0m\n\u001b[1;32m----> 1\u001b[0m epochs_all \u001b[38;5;241m=\u001b[39m \u001b[43mmne\u001b[49m\u001b[38;5;241;43m.\u001b[39;49m\u001b[43mEpochsArray\u001b[49m\u001b[43m(\u001b[49m\u001b[43mdata_all\u001b[49m\u001b[43m,\u001b[49m\u001b[43minfo\u001b[49m\u001b[43m,\u001b[49m\u001b[43mevents\u001b[49m\u001b[43m \u001b[49m\u001b[38;5;241;43m=\u001b[39;49m\u001b[43m \u001b[49m\u001b[43mevents_all\u001b[49m\u001b[43m \u001b[49m\u001b[43m,\u001b[49m\u001b[43m \u001b[49m\u001b[43mevent_id\u001b[49m\u001b[43m \u001b[49m\u001b[38;5;241;43m=\u001b[39;49m\u001b[43m \u001b[49m\u001b[43mevent_id\u001b[49m\u001b[43m)\u001b[49m\n",
      "File \u001b[1;32m<decorator-gen-280>:12\u001b[0m, in \u001b[0;36m__init__\u001b[1;34m(self, data, info, events, tmin, event_id, reject, flat, reject_tmin, reject_tmax, baseline, proj, on_missing, metadata, selection, drop_log, raw_sfreq, verbose)\u001b[0m\n",
      "File \u001b[1;32mD:\\Python\\Anaconda3\\lib\\site-packages\\mne\\epochs.py:2788\u001b[0m, in \u001b[0;36mEpochsArray.__init__\u001b[1;34m(self, data, info, events, tmin, event_id, reject, flat, reject_tmin, reject_tmax, baseline, proj, on_missing, metadata, selection, drop_log, raw_sfreq, verbose)\u001b[0m\n\u001b[0;32m   2785\u001b[0m info \u001b[38;5;241m=\u001b[39m info\u001b[38;5;241m.\u001b[39mcopy()  \u001b[38;5;66;03m# do not modify original info\u001b[39;00m\n\u001b[0;32m   2786\u001b[0m tmax \u001b[38;5;241m=\u001b[39m (data\u001b[38;5;241m.\u001b[39mshape[\u001b[38;5;241m2\u001b[39m] \u001b[38;5;241m-\u001b[39m \u001b[38;5;241m1\u001b[39m) \u001b[38;5;241m/\u001b[39m info[\u001b[38;5;124m'\u001b[39m\u001b[38;5;124msfreq\u001b[39m\u001b[38;5;124m'\u001b[39m] \u001b[38;5;241m+\u001b[39m tmin\n\u001b[1;32m-> 2788\u001b[0m \u001b[38;5;28;43msuper\u001b[39;49m\u001b[43m(\u001b[49m\u001b[43mEpochsArray\u001b[49m\u001b[43m,\u001b[49m\u001b[43m \u001b[49m\u001b[38;5;28;43mself\u001b[39;49m\u001b[43m)\u001b[49m\u001b[38;5;241;43m.\u001b[39;49m\u001b[38;5;21;43m__init__\u001b[39;49m\u001b[43m(\u001b[49m\n\u001b[0;32m   2789\u001b[0m \u001b[43m    \u001b[49m\u001b[43minfo\u001b[49m\u001b[43m,\u001b[49m\u001b[43m \u001b[49m\u001b[43mdata\u001b[49m\u001b[43m,\u001b[49m\u001b[43m \u001b[49m\u001b[43mevents\u001b[49m\u001b[43m,\u001b[49m\u001b[43m \u001b[49m\u001b[43mevent_id\u001b[49m\u001b[43m,\u001b[49m\u001b[43m \u001b[49m\u001b[43mtmin\u001b[49m\u001b[43m,\u001b[49m\u001b[43m \u001b[49m\u001b[43mtmax\u001b[49m\u001b[43m,\u001b[49m\u001b[43m \u001b[49m\u001b[43mbaseline\u001b[49m\u001b[43m,\u001b[49m\n\u001b[0;32m   2790\u001b[0m \u001b[43m    \u001b[49m\u001b[43mreject\u001b[49m\u001b[38;5;241;43m=\u001b[39;49m\u001b[43mreject\u001b[49m\u001b[43m,\u001b[49m\u001b[43m \u001b[49m\u001b[43mflat\u001b[49m\u001b[38;5;241;43m=\u001b[39;49m\u001b[43mflat\u001b[49m\u001b[43m,\u001b[49m\u001b[43m \u001b[49m\u001b[43mreject_tmin\u001b[49m\u001b[38;5;241;43m=\u001b[39;49m\u001b[43mreject_tmin\u001b[49m\u001b[43m,\u001b[49m\n\u001b[0;32m   2791\u001b[0m \u001b[43m    \u001b[49m\u001b[43mreject_tmax\u001b[49m\u001b[38;5;241;43m=\u001b[39;49m\u001b[43mreject_tmax\u001b[49m\u001b[43m,\u001b[49m\u001b[43m \u001b[49m\u001b[43mdecim\u001b[49m\u001b[38;5;241;43m=\u001b[39;49m\u001b[38;5;241;43m1\u001b[39;49m\u001b[43m,\u001b[49m\u001b[43m \u001b[49m\u001b[43mmetadata\u001b[49m\u001b[38;5;241;43m=\u001b[39;49m\u001b[43mmetadata\u001b[49m\u001b[43m,\u001b[49m\n\u001b[0;32m   2792\u001b[0m \u001b[43m    \u001b[49m\u001b[43mselection\u001b[49m\u001b[38;5;241;43m=\u001b[39;49m\u001b[43mselection\u001b[49m\u001b[43m,\u001b[49m\u001b[43m \u001b[49m\u001b[43mproj\u001b[49m\u001b[38;5;241;43m=\u001b[39;49m\u001b[43mproj\u001b[49m\u001b[43m,\u001b[49m\u001b[43m \u001b[49m\u001b[43mon_missing\u001b[49m\u001b[38;5;241;43m=\u001b[39;49m\u001b[43mon_missing\u001b[49m\u001b[43m,\u001b[49m\n\u001b[0;32m   2793\u001b[0m \u001b[43m    \u001b[49m\u001b[43mdrop_log\u001b[49m\u001b[38;5;241;43m=\u001b[39;49m\u001b[43mdrop_log\u001b[49m\u001b[43m,\u001b[49m\u001b[43m \u001b[49m\u001b[43mraw_sfreq\u001b[49m\u001b[38;5;241;43m=\u001b[39;49m\u001b[43mraw_sfreq\u001b[49m\u001b[43m,\u001b[49m\u001b[43m \u001b[49m\u001b[43mverbose\u001b[49m\u001b[38;5;241;43m=\u001b[39;49m\u001b[43mverbose\u001b[49m\u001b[43m)\u001b[49m\n\u001b[0;32m   2794\u001b[0m \u001b[38;5;28;01mif\u001b[39;00m \u001b[38;5;28mself\u001b[39m\u001b[38;5;241m.\u001b[39mbaseline \u001b[38;5;129;01mis\u001b[39;00m \u001b[38;5;129;01mnot\u001b[39;00m \u001b[38;5;28;01mNone\u001b[39;00m:\n\u001b[0;32m   2795\u001b[0m     \u001b[38;5;28mself\u001b[39m\u001b[38;5;241m.\u001b[39m_do_baseline \u001b[38;5;241m=\u001b[39m \u001b[38;5;28;01mTrue\u001b[39;00m\n",
      "File \u001b[1;32m<decorator-gen-264>:12\u001b[0m, in \u001b[0;36m__init__\u001b[1;34m(self, info, data, events, event_id, tmin, tmax, baseline, raw, picks, reject, flat, decim, reject_tmin, reject_tmax, detrend, proj, on_missing, preload_at_end, selection, drop_log, filename, metadata, event_repeated, raw_sfreq, annotations, verbose)\u001b[0m\n",
      "File \u001b[1;32mD:\\Python\\Anaconda3\\lib\\site-packages\\mne\\epochs.py:460\u001b[0m, in \u001b[0;36mBaseEpochs.__init__\u001b[1;34m(***failed resolving arguments***)\u001b[0m\n\u001b[0;32m    455\u001b[0m     \u001b[38;5;28mself\u001b[39m\u001b[38;5;241m.\u001b[39mdrop_log \u001b[38;5;241m=\u001b[39m drop_log\n\u001b[0;32m    457\u001b[0m \u001b[38;5;28mself\u001b[39m\u001b[38;5;241m.\u001b[39mevents \u001b[38;5;241m=\u001b[39m \u001b[38;5;28mself\u001b[39m\u001b[38;5;241m.\u001b[39mevents[selected]\n\u001b[0;32m    459\u001b[0m \u001b[38;5;28mself\u001b[39m\u001b[38;5;241m.\u001b[39mevents, \u001b[38;5;28mself\u001b[39m\u001b[38;5;241m.\u001b[39mevent_id, \u001b[38;5;28mself\u001b[39m\u001b[38;5;241m.\u001b[39mselection, \u001b[38;5;28mself\u001b[39m\u001b[38;5;241m.\u001b[39mdrop_log \u001b[38;5;241m=\u001b[39m \\\n\u001b[1;32m--> 460\u001b[0m     \u001b[43m_handle_event_repeated\u001b[49m\u001b[43m(\u001b[49m\n\u001b[0;32m    461\u001b[0m \u001b[43m        \u001b[49m\u001b[38;5;28;43mself\u001b[39;49m\u001b[38;5;241;43m.\u001b[39;49m\u001b[43mevents\u001b[49m\u001b[43m,\u001b[49m\u001b[43m \u001b[49m\u001b[38;5;28;43mself\u001b[39;49m\u001b[38;5;241;43m.\u001b[39;49m\u001b[43mevent_id\u001b[49m\u001b[43m,\u001b[49m\u001b[43m \u001b[49m\u001b[43mevent_repeated\u001b[49m\u001b[43m,\u001b[49m\n\u001b[0;32m    462\u001b[0m \u001b[43m        \u001b[49m\u001b[38;5;28;43mself\u001b[39;49m\u001b[38;5;241;43m.\u001b[39;49m\u001b[43mselection\u001b[49m\u001b[43m,\u001b[49m\u001b[43m \u001b[49m\u001b[38;5;28;43mself\u001b[39;49m\u001b[38;5;241;43m.\u001b[39;49m\u001b[43mdrop_log\u001b[49m\u001b[43m)\u001b[49m\n\u001b[0;32m    464\u001b[0m \u001b[38;5;66;03m# then subselect\u001b[39;00m\n\u001b[0;32m    465\u001b[0m sub \u001b[38;5;241m=\u001b[39m np\u001b[38;5;241m.\u001b[39mwhere(np\u001b[38;5;241m.\u001b[39min1d(selection, \u001b[38;5;28mself\u001b[39m\u001b[38;5;241m.\u001b[39mselection))[\u001b[38;5;241m0\u001b[39m]\n",
      "File \u001b[1;32mD:\\Python\\Anaconda3\\lib\\site-packages\\mne\\epochs.py:311\u001b[0m, in \u001b[0;36m_handle_event_repeated\u001b[1;34m(events, event_id, event_repeated, selection, drop_log)\u001b[0m\n\u001b[0;32m    309\u001b[0m drop_log \u001b[38;5;241m=\u001b[39m \u001b[38;5;28mlist\u001b[39m(drop_log)\n\u001b[0;32m    310\u001b[0m \u001b[38;5;28;01mif\u001b[39;00m event_repeated \u001b[38;5;241m==\u001b[39m \u001b[38;5;124m'\u001b[39m\u001b[38;5;124merror\u001b[39m\u001b[38;5;124m'\u001b[39m:\n\u001b[1;32m--> 311\u001b[0m     \u001b[38;5;28;01mraise\u001b[39;00m \u001b[38;5;167;01mRuntimeError\u001b[39;00m(\u001b[38;5;124m'\u001b[39m\u001b[38;5;124mEvent time samples were not unique. Consider \u001b[39m\u001b[38;5;124m'\u001b[39m\n\u001b[0;32m    312\u001b[0m                        \u001b[38;5;124m'\u001b[39m\u001b[38;5;124msetting the `event_repeated` parameter.\u001b[39m\u001b[38;5;124m\"\u001b[39m\u001b[38;5;124m'\u001b[39m)\n\u001b[0;32m    314\u001b[0m \u001b[38;5;28;01melif\u001b[39;00m event_repeated \u001b[38;5;241m==\u001b[39m \u001b[38;5;124m'\u001b[39m\u001b[38;5;124mdrop\u001b[39m\u001b[38;5;124m'\u001b[39m:\n\u001b[0;32m    315\u001b[0m     logger\u001b[38;5;241m.\u001b[39minfo(\u001b[38;5;124m'\u001b[39m\u001b[38;5;124mMultiple event values for single event times found. \u001b[39m\u001b[38;5;124m'\u001b[39m\n\u001b[0;32m    316\u001b[0m                 \u001b[38;5;124m'\u001b[39m\u001b[38;5;124mKeeping the first occurrence and dropping all others.\u001b[39m\u001b[38;5;124m'\u001b[39m)\n",
      "\u001b[1;31mRuntimeError\u001b[0m: Event time samples were not unique. Consider setting the `event_repeated` parameter.\""
     ]
    }
   ],
   "source": [
    "epochs_all = mne.EpochsArray(data_all,info,events = events_all , event_id = event_id)"
   ]
  }
 ],
 "metadata": {
  "kernelspec": {
   "display_name": "Python 3 (ipykernel)",
   "language": "python",
   "name": "python3"
  },
  "language_info": {
   "codemirror_mode": {
    "name": "ipython",
    "version": 3
   },
   "file_extension": ".py",
   "mimetype": "text/x-python",
   "name": "python",
   "nbconvert_exporter": "python",
   "pygments_lexer": "ipython3",
   "version": "3.9.7"
  }
 },
 "nbformat": 4,
 "nbformat_minor": 5
}
